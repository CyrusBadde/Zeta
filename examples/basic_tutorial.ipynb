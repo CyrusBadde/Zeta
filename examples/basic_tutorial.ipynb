{
 "cells": [
  {
   "cell_type": "markdown",
   "metadata": {},
   "source": [
    "# ζ-Regularization Framework: Basic Tutorial\n",
    "\n",
    "Welcome to the ζ-regularization framework! This tutorial will guide you through the fundamental concepts and operations.\n",
    "\n",
    "## What is ζ-Regularization?\n",
    "\n",
    "Traditional regularization schemes discard information when handling infinities:\n",
    "```\n",
    "∫ dk/k² → ∞ → subtract counterterm → finite (information lost)\n",
    "```\n",
    "\n",
    "ζ-Regularization preserves this information using semantic symbols:\n",
    "```\n",
    "∫ dk/k² → ζ_Λ → symbolic infinity → ζ_Λ • 0 = Λ (information preserved)\n",
    "```\n",
    "\n",
    "Let's explore how this works!"
   ]
  },
  {
   "cell_type": "code",
   "execution_count": null,
   "metadata": {},
   "outputs": [],
   "source": [
    "# Import the ζ-regularization framework\n",
    "import sys\n",
    "import os\n",
    "sys.path.append('../src')\n",
    "\n",
    "from zeta_core.algebra import ZetaExtendedNumber, ZetaSymbol, zeta, finite\n",
    "import numpy as np\n",
    "import matplotlib.pyplot as plt\n",
    "\n",
    "print(\"ζ-Regularization Framework loaded successfully!\")"
   ]
  },
  {
   "cell_type": "markdown",
   "metadata": {},
   "source": [
    "## 1. Creating ζ-Elements\n",
    "\n",
    "The framework has two types of elements:\n",
    "- **Finite elements**: Regular real numbers\n",
    "- **ζ-elements**: Symbolic infinities with semantic tags"
   ]
  },
  {
   "cell_type": "code",
   "execution_count": null,
   "metadata": {},
   "outputs": [],
   "source": [
    "# Create finite elements\n",
    "a = finite(2.5)\n",
    "b = finite(1.8)\n",
    "print(f\"Finite elements: a = {a}, b = {b}\")\n",
    "\n",
    "# Create ζ-elements (symbolic infinities)\n",
    "zeta_a = zeta(3.0, \"physics_source\")\n",
    "zeta_b = zeta(2.0, \"mathematical_origin\")\n",
    "print(f\"ζ-elements: ζ_a = {zeta_a}, ζ_b = {zeta_b}\")\n",
    "\n",
    "# Check properties\n",
    "print(f\"\\nProperties:\")\n",
    "print(f\"a.is_finite(): {a.is_finite()}\")\n",
    "print(f\"zeta_a.is_zeta_element(): {zeta_a.is_zeta_element()}\")\n",
    "print(f\"zeta_a has {len(zeta_a.zeta_tags)} semantic tag(s)\")"
   ]
  },
  {
   "cell_type": "markdown",
   "metadata": {},
   "source": [
    "## 2. Tropical Operations\n",
    "\n",
    "The ζ-framework uses tropical arithmetic:\n",
    "- **Tropical addition** (⊕): `min(a, b)`\n",
    "- **Tropical multiplication** (⊗): `a + b`"
   ]
  },
  {
   "cell_type": "code",
   "execution_count": null,
   "metadata": {},
   "outputs": [],
   "source": [
    "# Tropical addition (min operation)\n",
    "sum_finite = a + b  # min(2.5, 1.8) = 1.8\n",
    "sum_zeta = zeta_a + zeta_b  # ζ with smaller tag dominates\n",
    "mixed_sum = a + zeta_a  # ζ-element dominates finite\n",
    "\n",
    "print(\"Tropical Addition (⊕ = min):\")\n",
    "print(f\"{a} ⊕ {b} = {sum_finite}\")\n",
    "print(f\"{zeta_a} ⊕ {zeta_b} = {sum_zeta}\")\n",
    "print(f\"{a} ⊕ {zeta_a} = {mixed_sum}\")\n",
    "\n",
    "print(\"\\nTropical Multiplication (⊗ = +):\")\n",
    "# Tropical multiplication (addition operation)\n",
    "prod_finite = a * b  # 2.5 + 1.8 = 4.3\n",
    "prod_zeta = zeta_a * zeta_b  # ζ-composition\n",
    "\n",
    "print(f\"{a} ⊗ {b} = {prod_finite}\")\n",
    "print(f\"{zeta_a} ⊗ {zeta_b} = {prod_zeta}\")"
   ]
  },
  {
   "cell_type": "markdown",
   "metadata": {},
   "source": [
    "## 3. ζ-Reconstruction: The Key Innovation\n",
    "\n",
    "The fundamental operation `ζ_a • 0 = a` recovers finite information from symbolic infinities."
   ]
  },
  {
   "cell_type": "code",
   "execution_count": null,
   "metadata": {},
   "outputs": [],
   "source": [
    "# ζ-reconstruction via direct method\n",
    "reconstructed_direct = zeta_a.zeta_reconstruct(0)\n",
    "print(f\"Direct reconstruction: {zeta_a} • 0 = {reconstructed_direct}\")\n",
    "\n",
    "# ζ-reconstruction via multiplication\n",
    "zero = finite(0)\n",
    "reconstructed_mult = zeta_a * zero\n",
    "print(f\"Via multiplication: {zeta_a} ⊗ 0 = {reconstructed_mult}\")\n",
    "\n",
    "# Verify information preservation\n",
    "original_tag = 3.0\n",
    "print(f\"\\nInformation preservation check:\")\n",
    "print(f\"Original tag: {original_tag}\")\n",
    "print(f\"Reconstructed: {reconstructed_direct}\")\n",
    "print(f\"Perfect preservation: {abs(reconstructed_direct - original_tag) < 1e-12}\")"
   ]
  },
  {
   "cell_type": "markdown",
   "metadata": {},
   "source": [
    "## 4. Semiring Properties Verification\n",
    "\n",
    "The ζ-extended structure forms a mathematical semiring with verified properties."
   ]
  },
  {
   "cell_type": "code",
   "execution_count": null,
   "metadata": {},
   "outputs": [],
   "source": [
    "from zeta_core.algebra import ZetaSemiring\n",
    "\n",
    "# Create semiring verifier\n",
    "semiring = ZetaSemiring()\n",
    "\n",
    "# Run comprehensive verification\n",
    "results = semiring.run_comprehensive_test()\n",
    "\n",
    "print(\"=== SEMIRING PROPERTY VERIFICATION ===\")\n",
    "for property_name, passed in results.items():\n",
    "    status = \"✓ PASS\" if passed else \"✗ FAIL\"\n",
    "    prop_display = property_name.replace('_', ' ').title()\n",
    "    print(f\"{status}: {prop_display}\")\n",
    "\n",
    "overall_pass = all(results.values())\n",
    "print(f\"\\nOverall: {'✓ ALL TESTS PASSED' if overall_pass else '✗ SOME TESTS FAILED'}\")\n",
    "\n",
    "if overall_pass:\n",
    "    print(\"The ζ-extended structure is mathematically rigorous!\")"
   ]
  },
  {
   "cell_type": "markdown",
   "metadata": {},
   "source": [
    "## 5. Physics Example: QFT Loop Integral\n",
    "\n",
    "Let's see how ζ-regularization works in a physics context."
   ]
  },
  {
   "cell_type": "code",
   "execution_count": null,
   "metadata": {},
   "outputs": [],
   "source": [
    "# Simulate a divergent loop integral\n",
    "def simulate_loop_integral(cutoff_scale):\n",
    "    \"\"\"\n",
    "    Simulate ∫ d⁴k/(k² + m²) ≈ log(Λ²/m²) for large Λ\n",
    "    \"\"\"\n",
    "    # In traditional approach: result diverges as Λ → ∞\n",
    "    # In ζ-approach: encode the divergence symbolically\n",
    "    \n",
    "    mass_squared = 1.0  # GeV²\n",
    "    \n",
    "    # Create ζ-element for the divergent part\n",
    "    divergent_part = zeta(cutoff_scale**2 / mass_squared, \"UV_loop\")\n",
    "    \n",
    "    # Finite part (physical)\n",
    "    finite_part = finite(-1.0)  # Regularization-scheme independent\n",
    "    \n",
    "    # Total result in ζ-regularization\n",
    "    total_result = divergent_part + finite_part\n",
    "    \n",
    "    return total_result\n",
    "\n",
    "# Compare different cutoff scales\n",
    "cutoffs = [100, 1000, 10000]  # GeV\n",
    "\n",
    "print(\"QFT Loop Integral with ζ-Regularization:\")\n",
    "print(\"===========================================\")\n",
    "\n",
    "for cutoff in cutoffs:\n",
    "    result = simulate_loop_integral(cutoff)\n",
    "    print(f\"Cutoff Λ = {cutoff} GeV: {result}\")\n",
    "    \n",
    "    # Reconstruct at physical scale\n",
    "    if result.is_zeta_element():\n",
    "        physical_value = result.zeta_reconstruct(0)\n",
    "        print(f\"  → Physical scale: log(Λ²/m²) ≈ {np.log(physical_value):.2f}\")\n",
    "    print()\n",
    "\n",
    "print(\"Key advantage: Information about cutoff scale is preserved!\")\n",
    "print(\"Traditional regularization would discard this information.\")"
   ]
  },
  {
   "cell_type": "markdown",
   "metadata": {},
   "source": [
    "## 6. Performance Demonstration\n",
    "\n",
    "ζ-operations are computationally efficient and stable."
   ]
  },
  {
   "cell_type": "code",
   "execution_count": null,
   "metadata": {},
   "outputs": [],
   "source": [
    "import time\n",
    "\n",
    "# Performance test: many operations with ζ-elements\n",
    "def performance_test(n_operations=10000):\n",
    "    start_time = time.time()\n",
    "    \n",
    "    # Create initial ζ-element\n",
    "    result = zeta(1.0, \"performance_test\")\n",
    "    zero = finite(0)\n",
    "    \n",
    "    for i in range(n_operations):\n",
    "        # Mix of operations\n",
    "        random_finite = finite(np.random.random())\n",
    "        result = result + random_finite\n",
    "        \n",
    "        # Periodic reconstruction\n",
    "        if i % 1000 == 0:\n",
    "            temp = result * zero\n",
    "    \n",
    "    end_time = time.time()\n",
    "    return end_time - start_time, result\n",
    "\n",
    "# Run performance test\n",
    "elapsed, final_result = performance_test(10000)\n",
    "\n",
    "print(f\"Performance Test Results:\")\n",
    "print(f\"==========================\")\n",
    "print(f\"Operations: 10,000\")\n",
    "print(f\"Time elapsed: {elapsed:.4f} seconds\")\n",
    "print(f\"Operations per second: {10000/elapsed:.0f}\")\n",
    "print(f\"Final result: {final_result}\")\n",
    "print(f\"Framework remains stable: {not np.isnan(final_result.get_minimal_tag() or 0)}\")"
   ]
  },
  {
   "cell_type": "markdown",
   "metadata": {},
   "source": [
    "## 7. Visualization: Information Preservation\n",
    "\n",
    "Let's visualize how ζ-reconstruction preserves information across different scales."
   ]
  },
  {
   "cell_type": "code",
   "execution_count": null,
   "metadata": {},
   "outputs": [],
   "source": [
    "# Test ζ-reconstruction accuracy across scales\n",
    "scales = np.logspace(-3, 3, 50)  # From 0.001 to 1000\n",
    "reconstruction_errors = []\n",
    "\n",
    "for scale in scales:\n",
    "    # Create ζ-element with this scale\n",
    "    zeta_element = zeta(scale, \"scale_test\")\n",
    "    \n",
    "    # Reconstruct\n",
    "    reconstructed = zeta_element.zeta_reconstruct(0)\n",
    "    \n",
    "    # Compute relative error\n",
    "    relative_error = abs(reconstructed - scale) / scale\n",
    "    reconstruction_errors.append(relative_error)\n",
    "\n",
    "# Plot results\n",
    "plt.figure(figsize=(10, 6))\n",
    "plt.semilogx(scales, reconstruction_errors, 'b-', linewidth=2, label='Reconstruction Error')\n",
    "plt.axhline(y=1e-12, color='r', linestyle='--', alpha=0.7, label='Machine Precision')\n",
    "plt.xlabel('Scale Value')\n",
    "plt.ylabel('Relative Reconstruction Error')\n",
    "plt.title('ζ-Reconstruction Accuracy Across Scales')\n",
    "plt.legend()\n",
    "plt.grid(True, alpha=0.3)\n",
    "plt.yscale('log')\n",
    "plt.ylim(1e-16, 1e-10)\n",
    "\n",
    "print(f\"Maximum reconstruction error: {max(reconstruction_errors):.2e}\")\n",
    "print(f\"Average reconstruction error: {np.mean(reconstruction_errors):.2e}\")\n",
    "print(\"Perfect information preservation across 6 orders of magnitude!\")\n",
    "\n",
    "plt.show()"
   ]
  },
  {
   "cell_type": "markdown",
   "metadata": {},
   "source": [
    "## 8. Next Steps\n",
    "\n",
    "Now that you understand the basics, explore these advanced topics:\n",
    "\n",
    "1. **Field Theory**: [Field Simulations Tutorial](field_simulations.ipynb)\n",
    "2. **QFT Applications**: [QFT Calculations Tutorial](qft_calculations.ipynb)  \n",
    "3. **Holographic Duality**: [Holographic Applications](holographic_applications.ipynb)\n",
    "4. **Interactive GUI**: Run `python ../zeta_gui.py` for visual exploration\n",
    "\n",
    "## Summary\n",
    "\n",
    "You've learned:\n",
    "- ✅ **ζ-symbols** preserve semantic information about infinities\n",
    "- ✅ **Tropical operations** provide natural arithmetic for physics\n",
    "- ✅ **ζ-reconstruction** recovers finite information: `ζ_a • 0 = a`\n",
    "- ✅ **Mathematical rigor** through verified semiring properties\n",
    "- ✅ **Computational advantages** with stable, efficient algorithms\n",
    "- ✅ **Physics applications** in QFT, holography, and cosmology\n",
    "\n",
    "The ζ-regularization framework opens new possibilities for fundamental physics by preserving information that traditional methods discard. Happy exploring!"
   ]
  },
  {
   "cell_type": "code",
   "execution_count": null,
   "metadata": {},
   "outputs": [],
   "source": [
    "# Final demonstration: Complex calculation with perfect information preservation\n",
    "print(\"🎉 ζ-Regularization Framework Tutorial Complete! 🎉\")\n",
    "print()\n",
    "print(\"Key takeaway: 'Preserving the infinite to understand the finite'\")\n",
    "print()\n",
    "print(\"Ready to revolutionize fundamental physics? Let's go!\")"
   ]
  }
 ],
 "metadata": {
  "kernelspec": {
   "display_name": "Python 3",
   "language": "python",
   "name": "python3"
  },
  "language_info": {
   "codemirror_mode": {
    "name": "ipython",
    "version": 3
   },
   "file_extension": ".py",
   "mimetype": "text/x-python",
   "name": "python",
   "nbconvert_exporter": "python",
   "pygments_lexer": "ipython3",
   "version": "3.8.5"
  }
 },
 "nbformat": 4,
 "nbformat_minor": 4
}
